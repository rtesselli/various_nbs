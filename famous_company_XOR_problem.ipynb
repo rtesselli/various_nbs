{
 "cells": [
  {
   "cell_type": "markdown",
   "metadata": {
    "toc": true
   },
   "source": [
    "<h1>Table of Contents<span class=\"tocSkip\"></span></h1>\n",
    "<div class=\"toc\"><ul class=\"toc-item\"></ul></div>"
   ]
  },
  {
   "cell_type": "code",
   "execution_count": 2,
   "metadata": {
    "ExecuteTime": {
     "end_time": "2021-02-12T13:17:37.832816Z",
     "start_time": "2021-02-12T13:17:37.824796Z"
    }
   },
   "outputs": [
    {
     "data": {
      "text/plain": [
       "3"
      ]
     },
     "execution_count": 2,
     "metadata": {},
     "output_type": "execute_result"
    }
   ],
   "source": [
    "1 ^ 2"
   ]
  },
  {
   "cell_type": "code",
   "execution_count": 14,
   "metadata": {
    "ExecuteTime": {
     "end_time": "2021-02-12T13:24:21.470071Z",
     "start_time": "2021-02-12T13:24:21.464677Z"
    }
   },
   "outputs": [],
   "source": [
    "def f(X):\n",
    "    if not X:\n",
    "        return ValueError(\"Undefined\")\n",
    "    if len(X) % 2 == 0:\n",
    "        return 0\n",
    "    result = 0\n",
    "    for i in range(0, len(X), 2):\n",
    "        result = result ^ X[i]\n",
    "    return result"
   ]
  },
  {
   "cell_type": "code",
   "execution_count": 25,
   "metadata": {
    "ExecuteTime": {
     "end_time": "2021-02-12T14:05:18.590986Z",
     "start_time": "2021-02-12T14:05:18.583680Z"
    }
   },
   "outputs": [
    {
     "data": {
      "text/plain": [
       "7"
      ]
     },
     "execution_count": 25,
     "metadata": {},
     "output_type": "execute_result"
    }
   ],
   "source": [
    "f([1,2,3,4,5])"
   ]
  },
  {
   "cell_type": "code",
   "execution_count": 26,
   "metadata": {
    "ExecuteTime": {
     "end_time": "2021-02-12T14:05:19.292619Z",
     "start_time": "2021-02-12T14:05:19.286539Z"
    }
   },
   "outputs": [
    {
     "data": {
      "text/plain": [
       "2"
      ]
     },
     "execution_count": 26,
     "metadata": {},
     "output_type": "execute_result"
    }
   ],
   "source": [
    "f([3,5,1])"
   ]
  },
  {
   "cell_type": "code",
   "execution_count": 27,
   "metadata": {
    "ExecuteTime": {
     "end_time": "2021-02-12T14:05:21.424925Z",
     "start_time": "2021-02-12T14:05:21.418025Z"
    }
   },
   "outputs": [
    {
     "data": {
      "text/plain": [
       "0"
      ]
     },
     "execution_count": 27,
     "metadata": {},
     "output_type": "execute_result"
    }
   ],
   "source": [
    "f([3,5,1,1])"
   ]
  },
  {
   "cell_type": "code",
   "execution_count": 28,
   "metadata": {
    "ExecuteTime": {
     "end_time": "2021-02-12T14:05:21.791431Z",
     "start_time": "2021-02-12T14:05:21.785749Z"
    }
   },
   "outputs": [
    {
     "data": {
      "text/plain": [
       "ValueError('Undefined')"
      ]
     },
     "execution_count": 28,
     "metadata": {},
     "output_type": "execute_result"
    }
   ],
   "source": [
    "f([])"
   ]
  },
  {
   "cell_type": "code",
   "execution_count": 19,
   "metadata": {
    "ExecuteTime": {
     "end_time": "2021-02-12T13:57:41.567055Z",
     "start_time": "2021-02-12T13:57:41.560364Z"
    }
   },
   "outputs": [],
   "source": [
    "# Python\n",
    "\n",
    "\"\"\"\n",
    "First we need to consider some properties of XOR:\n",
    "1) It's associative, meaning (A XOR B) XOR C = A XOR (B XOR C)\n",
    "2) Has self-inverse, meaning A XOR A = 0\n",
    "\n",
    "Keeping this in mind, given an array X of elements X_1, X_2... X_N, the key point is to find how many times each element X_i appears in the final expression. Any element which appears an even number of times will be canceled (for property 1) and 2)), otherwise any element which appears an odd number of times will be consider as itself (for property 1) and 2) plus the fact that the remaining element is the element itself).\n",
    "\n",
    "The first and last value will occur in the final expression len(X) times, because they appear exactly once for each sublength.\n",
    "\n",
    "The central elements of X will occur 1 + 2 + ... + ceil(len(X))/2 + (ceil(len(X))/2 - 1) + ... + 1 times.\n",
    "\n",
    "Therefore, if len(X) is even all occurrences are even and therefore the result is 0.\n",
    "\n",
    "Otherwise we consider only the elements in even positions (0, 2...) and compute the XOR only on those values.\n",
    "\"\"\"\n",
    "\n",
    "def f(X):\n",
    "    if not X:  # Empty X\n",
    "        return ValueError(\"Undefined\")  # Problem is not clear if it is possible to compute f on an empty list\n",
    "    if len(X) % 2 == 0:  # Even number of elements\n",
    "        return 0\n",
    "    result = 0 # accumulator \n",
    "    for i in range(0, len(X), 2):  # consider only elements in even positions\n",
    "        result = result ^ X[i] # compute XOR between accumulator and current element\n",
    "    return result"
   ]
  },
  {
   "cell_type": "code",
   "execution_count": null,
   "metadata": {},
   "outputs": [],
   "source": [
    "Before diving headfirst into the problem, let's start with some definitions. The bitwise exclusive OR (⊕) is an operation that, bit by bit for two operands, returns 1 if one and only one bit is 1, 0 otherwise (0 ⊕ 0 = 1 ⊕ 1 = 0, 1 ⊕ 0 = 0 ⊕ 1 = 1). To sum up with an example, 5 ⊕ 7 = 2, which is made clear by expressing the relationship with binary representations: 101 ⊕ 111 = 010, given that 1 ⊕ 1 = 0, 0 ⊕ 1 = 1, 1 ⊕ 1 = 0.\n",
    "\n",
    "When extending the bitwise OR operator to more than two operands, the result is obtained by first computing ⊕ over the first two operands, then by computing ⊕ over that result and the following operand, and so on. For instance, 3 ⊕ 5 ⊕ 1 = (3 ⊕ 5) ⊕ 1 = 6 ⊕ 1 = 7.\n",
    "\n",
    "Another concept that you'll need is the set of subarrays of an array, a subarray being any contiguous set of elements taken from the initial array. For example, given an array [x0, x1, x2], here is the set of all its subarrays: [x0], [x1], [x2], [x0, x1], [x1, x2], [x0, x1, x2]. As you can see, also the initial array belongs to the set.\n",
    "\n",
    "Next, we define a function f(X), where X is an array of N integer numbers, [x0, x1, ..., xN-1], as follows:\n",
    "\n",
    "\n",
    "In other words, function f(X) computes first the bitwise exclusive OR over the elements of all the contiguous subarrays of an array of length N, and then computes the bitwise exclusive OR over the results. For example:\n",
    "\n",
    "f([3, 5, 1]) = (3) ⊕ (5) ⊕ (1) ⊕ (3 ⊕ 5) ⊕ (5 ⊕ 1) ⊕ (3 ⊕ 5 ⊕ 1) = 3 ⊕ 5 ⊕ 1 ⊕ 6 ⊕ 4 ⊕ 7 = 2\n",
    "Your goal is to come up with an algorithm to compute f(X) for any array of integer numbers X. The more efficient your solution, the better. The optimal solution has time complexity O(N) and space complexity O(1).\n",
    "\n",
    "To make your life easier:\n",
    "\n",
    "The bitwise XOR operator (⊕) is already implemented. z = x ⊕ y simply works and does so in constant time and space (magic!).\n",
    "You shouldn’t need to jump from and to integer and binary representations of numbers. So, if you’re implementing an algorithm to do that, you’re probably on the wrong path.\n",
    "Focus on the core logic needed to solve the problem. If your algorithm is longer than 20 lines you’re almost certainly not following the instructions.\n",
    "\n",
    "Use the space available below to describe your solution in pseudocode, or any language of your choice. Please, make sure to provide a description of your reasoning and complement your code with very clear explanations of what each part does and why: if the reviewers can’t understand your algorithm despite a reasonable effort, they’ll have to consider your solution as wrong."
   ]
  },
  {
   "cell_type": "code",
   "execution_count": 24,
   "metadata": {
    "ExecuteTime": {
     "end_time": "2021-02-12T14:05:15.129184Z",
     "start_time": "2021-02-12T14:05:15.121473Z"
    }
   },
   "outputs": [],
   "source": [
    "# Python\n",
    "\n",
    "\"\"\"\n",
    "First we need to consider some properties of XOR:\n",
    "1) It's associative, meaning (A XOR B) XOR C = A XOR (B XOR C)\n",
    "2) Has self-inverse, meaning A XOR A = 0\n",
    "\n",
    "Keeping this in mind, given an array X of elements X_0, X_1... X_N-1, the key point is to find how many times each element X_i appears in the final expression. Any element which appears an even number of times will be canceled (for property 1) and 2)), otherwise any element which appears an odd number of times will be consider as itself (for property 1) and 2) plus the fact that the remaining element is the element itself).\n",
    "\n",
    "The first and last value will occur in the final expression len(X) times, because they appear exactly once for each sublength.\n",
    "\n",
    "The central elements of X will occur 1 + 2 + ... + ceil(len(X))/2 + (ceil(len(X))/2 - 1) + ... + 1 times.\n",
    "\n",
    "if len(X) is even the occurrence of any element is even (since the number of sliding windows is even) and therefore the result is 0.\n",
    "\n",
    "Otherwise we consider only the elements in even positions (0, 2...) (since the number of sliding windows is odd and consecutive elements appears a number of times with different parity) and compute the XOR only on those values.\n",
    "\"\"\"\n",
    "\n",
    "def f(X):\n",
    "    if not X:  # Empty X\n",
    "        return ValueError(\"Undefined\")  # Problem is not clear if it is possible to compute f on an empty list\n",
    "    if len(X) % 2 == 0:  # Even number of elements\n",
    "        return 0\n",
    "    result = 0 # accumulator \n",
    "    for i in range(0, len(X), 2):  # consider only elements in even positions\n",
    "        result = result ^ X[i] # compute XOR between accumulator and current element\n",
    "    return result"
   ]
  },
  {
   "cell_type": "code",
   "execution_count": null,
   "metadata": {},
   "outputs": [],
   "source": []
  }
 ],
 "metadata": {
  "kernelspec": {
   "display_name": "Python 3",
   "language": "python",
   "name": "python3"
  },
  "language_info": {
   "codemirror_mode": {
    "name": "ipython",
    "version": 3
   },
   "file_extension": ".py",
   "mimetype": "text/x-python",
   "name": "python",
   "nbconvert_exporter": "python",
   "pygments_lexer": "ipython3",
   "version": "3.7.4"
  },
  "toc": {
   "base_numbering": 1,
   "nav_menu": {},
   "number_sections": true,
   "sideBar": true,
   "skip_h1_title": true,
   "title_cell": "Table of Contents",
   "title_sidebar": "Contents",
   "toc_cell": true,
   "toc_position": {},
   "toc_section_display": true,
   "toc_window_display": false
  },
  "varInspector": {
   "cols": {
    "lenName": 16,
    "lenType": 16,
    "lenVar": 40
   },
   "kernels_config": {
    "python": {
     "delete_cmd_postfix": "",
     "delete_cmd_prefix": "del ",
     "library": "var_list.py",
     "varRefreshCmd": "print(var_dic_list())"
    },
    "r": {
     "delete_cmd_postfix": ") ",
     "delete_cmd_prefix": "rm(",
     "library": "var_list.r",
     "varRefreshCmd": "cat(var_dic_list()) "
    }
   },
   "types_to_exclude": [
    "module",
    "function",
    "builtin_function_or_method",
    "instance",
    "_Feature"
   ],
   "window_display": false
  }
 },
 "nbformat": 4,
 "nbformat_minor": 2
}
