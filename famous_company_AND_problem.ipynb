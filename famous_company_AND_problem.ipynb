{
 "cells": [
  {
   "cell_type": "markdown",
   "metadata": {
    "toc": true
   },
   "source": [
    "<h1>Table of Contents<span class=\"tocSkip\"></span></h1>\n",
    "<div class=\"toc\"><ul class=\"toc-item\"></ul></div>"
   ]
  },
  {
   "cell_type": "raw",
   "metadata": {},
   "source": [
    "110010110 a\n",
    "110100111 b"
   ]
  },
  {
   "cell_type": "raw",
   "metadata": {},
   "source": [
    "001001000 not (a or b)\n",
    "\n",
    "010000000 nearest pow 2\n",
    "\n",
    "001111111 nearest pow 2 - 1\n",
    "\n",
    "110000000 result"
   ]
  },
  {
   "cell_type": "code",
   "execution_count": 1,
   "metadata": {
    "ExecuteTime": {
     "end_time": "2021-06-24T08:45:56.623275Z",
     "start_time": "2021-06-24T08:45:56.618995Z"
    }
   },
   "outputs": [],
   "source": [
    "import math\n",
    "\n",
    "def next_power2(x):\n",
    "    return pow(2, math.ceil(math.log(x)/math.log(2)))"
   ]
  },
  {
   "cell_type": "code",
   "execution_count": 47,
   "metadata": {
    "ExecuteTime": {
     "end_time": "2021-06-24T08:58:17.711955Z",
     "start_time": "2021-06-24T08:58:17.706069Z"
    }
   },
   "outputs": [],
   "source": [
    "def c(a,b):\n",
    "    print(bin(a))\n",
    "    print(bin(b))\n",
    "    where_0 = ~(a | b)\n",
    "    print(bin(where_0))\n",
    "    next_power = next_power2(where_0)\n",
    "    print(bin(~(next_power - 1)))\n",
    "    return ~(next_power - 1)"
   ]
  },
  {
   "cell_type": "code",
   "execution_count": 48,
   "metadata": {
    "ExecuteTime": {
     "end_time": "2021-06-24T08:58:17.872423Z",
     "start_time": "2021-06-24T08:58:17.867504Z"
    }
   },
   "outputs": [],
   "source": [
    "import numpy as np"
   ]
  },
  {
   "cell_type": "code",
   "execution_count": 49,
   "metadata": {
    "ExecuteTime": {
     "end_time": "2021-06-24T08:58:18.210681Z",
     "start_time": "2021-06-24T08:58:18.199726Z"
    }
   },
   "outputs": [
    {
     "name": "stdout",
     "output_type": "stream",
     "text": [
      "0b10010110\n",
      "0b10100111\n",
      "0b1001000\n",
      "-0b10000000\n"
     ]
    },
    {
     "data": {
      "text/plain": [
       "-128"
      ]
     },
     "execution_count": 49,
     "metadata": {},
     "output_type": "execute_result"
    }
   ],
   "source": [
    "c(np.uint8(0b110010110), np.uint8(0b110100111))"
   ]
  },
  {
   "cell_type": "raw",
   "metadata": {},
   "source": [
    "00000 0\n",
    "00001 1\n",
    "00010 2\n",
    "00011 3\n",
    "00100 4\n",
    "00101 5   X\n",
    "00110 6\n",
    "00111 7\n",
    "01000 8\n",
    "01001 9   X\n",
    "01010 10  X\n",
    "01011 11  X\n",
    "01100 12\n",
    "01101 13  X\n",
    "01110 14\n",
    "01111 15  X\n",
    "10000 16\n",
    "10001 17  X\n",
    "10010 18  X\n",
    "10011 19  X\n",
    "10100 20  X\n",
    "10101 21  X\n",
    "...\n",
    "11000 24\n",
    "11001 25  X\n",
    "...\n",
    "11100 "
   ]
  },
  {
   "cell_type": "code",
   "execution_count": null,
   "metadata": {},
   "outputs": [],
   "source": [
    "def c(a, b):\n",
    "    "
   ]
  },
  {
   "cell_type": "code",
   "execution_count": null,
   "metadata": {},
   "outputs": [],
   "source": []
  },
  {
   "cell_type": "code",
   "execution_count": null,
   "metadata": {},
   "outputs": [],
   "source": []
  },
  {
   "cell_type": "code",
   "execution_count": 17,
   "metadata": {
    "ExecuteTime": {
     "end_time": "2021-02-14T14:16:49.903708Z",
     "start_time": "2021-02-14T14:16:49.899453Z"
    }
   },
   "outputs": [],
   "source": [
    "def c_slow(a,b):\n",
    "    result = a\n",
    "    for i in range(a + 1, b+1):\n",
    "        result = result & i\n",
    "    return result"
   ]
  },
  {
   "cell_type": "code",
   "execution_count": 18,
   "metadata": {
    "ExecuteTime": {
     "end_time": "2021-02-14T14:16:50.152444Z",
     "start_time": "2021-02-14T14:16:50.143022Z"
    }
   },
   "outputs": [
    {
     "data": {
      "text/plain": [
       "4"
      ]
     },
     "execution_count": 18,
     "metadata": {},
     "output_type": "execute_result"
    }
   ],
   "source": [
    "c_slow(5,7)"
   ]
  },
  {
   "cell_type": "code",
   "execution_count": 19,
   "metadata": {
    "ExecuteTime": {
     "end_time": "2021-02-14T14:16:50.400289Z",
     "start_time": "2021-02-14T14:16:50.390548Z"
    }
   },
   "outputs": [
    {
     "data": {
      "text/plain": [
       "0"
      ]
     },
     "execution_count": 19,
     "metadata": {},
     "output_type": "execute_result"
    }
   ],
   "source": [
    "c_slow(5,8)"
   ]
  },
  {
   "cell_type": "code",
   "execution_count": 48,
   "metadata": {
    "ExecuteTime": {
     "end_time": "2021-02-14T14:29:22.679796Z",
     "start_time": "2021-02-14T14:29:22.674216Z"
    }
   },
   "outputs": [],
   "source": [
    "def c(a,b):\n",
    "    result = 0\n",
    "    while a:\n",
    "        print(a,b)\n",
    "        if (a & 1) == (b & 1):\n",
    "            result |= 1\n",
    "            result = result << 1\n",
    "            print(f\"new result {result}\")\n",
    "        a = a >> 1\n",
    "        b = b >> 1\n",
    "    return result"
   ]
  },
  {
   "cell_type": "code",
   "execution_count": 51,
   "metadata": {
    "ExecuteTime": {
     "end_time": "2021-02-14T14:35:50.996382Z",
     "start_time": "2021-02-14T14:35:50.989702Z"
    }
   },
   "outputs": [
    {
     "data": {
      "text/plain": [
       "[10, 9, 8, 7, 6, 5, 4, 3, 2, 1, 0]"
      ]
     },
     "execution_count": 51,
     "metadata": {},
     "output_type": "execute_result"
    }
   ],
   "source": [
    "list(range(10,-1,-1))"
   ]
  },
  {
   "cell_type": "code",
   "execution_count": 78,
   "metadata": {
    "ExecuteTime": {
     "end_time": "2021-02-14T14:40:07.447601Z",
     "start_time": "2021-02-14T14:40:07.442470Z"
    }
   },
   "outputs": [],
   "source": [
    "def C(A, B):\n",
    "    result = [0] * len(B)\n",
    "    for i in range(len(B) - 1, -1, -1):\n",
    "        if A[i] == B[i]:\n",
    "            result[len(B) - i - 1] = 1\n",
    "        else:\n",
    "            break\n",
    "    return result"
   ]
  },
  {
   "cell_type": "code",
   "execution_count": 9,
   "metadata": {
    "ExecuteTime": {
     "end_time": "2021-06-24T08:47:11.128734Z",
     "start_time": "2021-06-24T08:47:11.124054Z"
    }
   },
   "outputs": [],
   "source": [
    "def convert(A):\n",
    "    result = 0\n",
    "    for i, d in enumerate(A):\n",
    "        result += d << i\n",
    "    return result"
   ]
  },
  {
   "cell_type": "code",
   "execution_count": 133,
   "metadata": {
    "ExecuteTime": {
     "end_time": "2021-02-14T15:14:38.266323Z",
     "start_time": "2021-02-14T15:14:38.260389Z"
    }
   },
   "outputs": [
    {
     "data": {
      "text/plain": [
       "3"
      ]
     },
     "execution_count": 133,
     "metadata": {},
     "output_type": "execute_result"
    }
   ],
   "source": [
    "convert([1,1,0])"
   ]
  },
  {
   "cell_type": "code",
   "execution_count": 134,
   "metadata": {
    "ExecuteTime": {
     "end_time": "2021-02-14T15:14:42.955913Z",
     "start_time": "2021-02-14T15:14:42.944005Z"
    }
   },
   "outputs": [],
   "source": [
    "def C(A,B):\n",
    "    result = [0]*len(B)\n",
    "    i = len(B) - 1\n",
    "    while A[i] == B[i]:\n",
    "        result[i] = A[i]\n",
    "        i -= 1\n",
    "    print(result)\n",
    "    return convert(reversed(result))"
   ]
  },
  {
   "cell_type": "code",
   "execution_count": 135,
   "metadata": {
    "ExecuteTime": {
     "end_time": "2021-02-14T15:14:44.245641Z",
     "start_time": "2021-02-14T15:14:44.234652Z"
    }
   },
   "outputs": [
    {
     "name": "stdout",
     "output_type": "stream",
     "text": [
      "[0, 0]\n"
     ]
    },
    {
     "data": {
      "text/plain": [
       "0"
      ]
     },
     "execution_count": 135,
     "metadata": {},
     "output_type": "execute_result"
    }
   ],
   "source": [
    "C([0,0], [1,0])"
   ]
  },
  {
   "cell_type": "code",
   "execution_count": 136,
   "metadata": {
    "ExecuteTime": {
     "end_time": "2021-02-14T15:14:45.757336Z",
     "start_time": "2021-02-14T15:14:45.750419Z"
    }
   },
   "outputs": [
    {
     "data": {
      "text/plain": [
       "4"
      ]
     },
     "execution_count": 136,
     "metadata": {},
     "output_type": "execute_result"
    }
   ],
   "source": [
    "c_slow(5,7)"
   ]
  },
  {
   "cell_type": "code",
   "execution_count": 137,
   "metadata": {
    "ExecuteTime": {
     "end_time": "2021-02-14T15:14:46.377414Z",
     "start_time": "2021-02-14T15:14:46.369755Z"
    }
   },
   "outputs": [
    {
     "name": "stdout",
     "output_type": "stream",
     "text": [
      "[0, 0, 1]\n"
     ]
    },
    {
     "data": {
      "text/plain": [
       "1"
      ]
     },
     "execution_count": 137,
     "metadata": {},
     "output_type": "execute_result"
    }
   ],
   "source": [
    "C([1,0,1], [1,1,1])"
   ]
  },
  {
   "cell_type": "code",
   "execution_count": 138,
   "metadata": {
    "ExecuteTime": {
     "end_time": "2021-02-14T15:14:58.368544Z",
     "start_time": "2021-02-14T15:14:58.361417Z"
    }
   },
   "outputs": [
    {
     "name": "stdout",
     "output_type": "stream",
     "text": [
      "[0, 1, 1]\n"
     ]
    },
    {
     "data": {
      "text/plain": [
       "3"
      ]
     },
     "execution_count": 138,
     "metadata": {},
     "output_type": "execute_result"
    }
   ],
   "source": [
    "C([0,1,1], [1,1,1])"
   ]
  },
  {
   "cell_type": "code",
   "execution_count": 139,
   "metadata": {
    "ExecuteTime": {
     "end_time": "2021-02-14T15:15:10.782707Z",
     "start_time": "2021-02-14T15:15:10.775265Z"
    }
   },
   "outputs": [
    {
     "name": "stdout",
     "output_type": "stream",
     "text": [
      "[0, 0, 0, 0]\n"
     ]
    },
    {
     "data": {
      "text/plain": [
       "0"
      ]
     },
     "execution_count": 139,
     "metadata": {},
     "output_type": "execute_result"
    }
   ],
   "source": [
    "C([1,0,1,0], [0,0,0,1])"
   ]
  },
  {
   "cell_type": "code",
   "execution_count": 140,
   "metadata": {
    "ExecuteTime": {
     "end_time": "2021-02-14T15:15:12.792432Z",
     "start_time": "2021-02-14T15:15:12.782773Z"
    }
   },
   "outputs": [
    {
     "name": "stdout",
     "output_type": "stream",
     "text": [
      "[0, 0, 1, 0, 1]\n"
     ]
    },
    {
     "data": {
      "text/plain": [
       "5"
      ]
     },
     "execution_count": 140,
     "metadata": {},
     "output_type": "execute_result"
    }
   ],
   "source": [
    "C([0,0,1,0,1], [0,1,1,0,1])"
   ]
  },
  {
   "cell_type": "code",
   "execution_count": 101,
   "metadata": {
    "ExecuteTime": {
     "end_time": "2021-02-14T14:47:42.053315Z",
     "start_time": "2021-02-14T14:47:42.046695Z"
    }
   },
   "outputs": [
    {
     "data": {
      "text/plain": [
       "12"
      ]
     },
     "execution_count": 101,
     "metadata": {},
     "output_type": "execute_result"
    }
   ],
   "source": [
    "c_slow(12,14)"
   ]
  },
  {
   "cell_type": "code",
   "execution_count": 114,
   "metadata": {
    "ExecuteTime": {
     "end_time": "2021-02-14T14:51:03.148225Z",
     "start_time": "2021-02-14T14:51:03.141318Z"
    }
   },
   "outputs": [
    {
     "data": {
      "text/plain": [
       "[0, 0, 1, 1]"
      ]
     },
     "execution_count": 114,
     "metadata": {},
     "output_type": "execute_result"
    }
   ],
   "source": [
    "C([0,0,1,1], [0,1,1,1])"
   ]
  },
  {
   "cell_type": "code",
   "execution_count": 103,
   "metadata": {
    "ExecuteTime": {
     "end_time": "2021-02-14T14:48:12.594451Z",
     "start_time": "2021-02-14T14:48:12.586501Z"
    }
   },
   "outputs": [
    {
     "name": "stdout",
     "output_type": "stream",
     "text": [
      "5 7\n",
      "new result 2\n",
      "2 3\n",
      "1 1\n",
      "new result 6\n"
     ]
    },
    {
     "data": {
      "text/plain": [
       "6"
      ]
     },
     "execution_count": 103,
     "metadata": {},
     "output_type": "execute_result"
    }
   ],
   "source": [
    "c(5,7)"
   ]
  },
  {
   "cell_type": "code",
   "execution_count": 32,
   "metadata": {
    "ExecuteTime": {
     "end_time": "2021-02-14T14:19:50.543531Z",
     "start_time": "2021-02-14T14:19:50.533990Z"
    }
   },
   "outputs": [
    {
     "data": {
      "text/plain": [
       "0"
      ]
     },
     "execution_count": 32,
     "metadata": {},
     "output_type": "execute_result"
    }
   ],
   "source": [
    "c(5,8)"
   ]
  },
  {
   "cell_type": "code",
   "execution_count": 141,
   "metadata": {
    "ExecuteTime": {
     "end_time": "2021-02-14T15:15:51.784848Z",
     "start_time": "2021-02-14T15:15:51.752475Z"
    }
   },
   "outputs": [],
   "source": [
    "import numpy as np"
   ]
  },
  {
   "cell_type": "code",
   "execution_count": 151,
   "metadata": {
    "ExecuteTime": {
     "end_time": "2021-02-14T15:17:45.816630Z",
     "start_time": "2021-02-14T15:17:45.810131Z"
    }
   },
   "outputs": [
    {
     "data": {
      "text/plain": [
       "['0', '0', '1']"
      ]
     },
     "execution_count": 151,
     "metadata": {},
     "output_type": "execute_result"
    }
   ],
   "source": [
    "list(reversed(np.binary_repr(4)))"
   ]
  },
  {
   "cell_type": "code",
   "execution_count": 154,
   "metadata": {
    "ExecuteTime": {
     "end_time": "2021-02-14T15:18:44.318213Z",
     "start_time": "2021-02-14T15:18:44.310404Z"
    }
   },
   "outputs": [
    {
     "name": "stdout",
     "output_type": "stream",
     "text": [
      "[0, 0]\n"
     ]
    },
    {
     "data": {
      "text/plain": [
       "0"
      ]
     },
     "execution_count": 154,
     "metadata": {},
     "output_type": "execute_result"
    }
   ],
   "source": [
    "C([0,0], [0,1])"
   ]
  },
  {
   "cell_type": "code",
   "execution_count": 155,
   "metadata": {
    "ExecuteTime": {
     "end_time": "2021-02-14T15:19:05.933024Z",
     "start_time": "2021-02-14T15:19:05.915216Z"
    }
   },
   "outputs": [
    {
     "name": "stdout",
     "output_type": "stream",
     "text": [
      "['0'] ['1']\n",
      "[0]\n",
      "['0'] ['0', '1']\n"
     ]
    },
    {
     "ename": "IndexError",
     "evalue": "list index out of range",
     "output_type": "error",
     "traceback": [
      "\u001b[0;31m---------------------------------------------------------------------------\u001b[0m",
      "\u001b[0;31mIndexError\u001b[0m                                Traceback (most recent call last)",
      "\u001b[0;32m<ipython-input-155-a208a3773080>\u001b[0m in \u001b[0;36m<module>\u001b[0;34m\u001b[0m\n\u001b[1;32m      3\u001b[0m     \u001b[0;32mfor\u001b[0m \u001b[0mj\u001b[0m \u001b[0;32min\u001b[0m \u001b[0mrange\u001b[0m\u001b[0;34m(\u001b[0m\u001b[0mi\u001b[0m\u001b[0;34m+\u001b[0m\u001b[0;36m1\u001b[0m\u001b[0;34m,\u001b[0m \u001b[0mi\u001b[0m \u001b[0;34m+\u001b[0m \u001b[0;36m101\u001b[0m\u001b[0;34m)\u001b[0m\u001b[0;34m:\u001b[0m\u001b[0;34m\u001b[0m\u001b[0;34m\u001b[0m\u001b[0m\n\u001b[1;32m      4\u001b[0m         \u001b[0mprint\u001b[0m\u001b[0;34m(\u001b[0m\u001b[0mlist\u001b[0m\u001b[0;34m(\u001b[0m\u001b[0mreversed\u001b[0m\u001b[0;34m(\u001b[0m\u001b[0mnp\u001b[0m\u001b[0;34m.\u001b[0m\u001b[0mbinary_repr\u001b[0m\u001b[0;34m(\u001b[0m\u001b[0mi\u001b[0m\u001b[0;34m)\u001b[0m\u001b[0;34m)\u001b[0m\u001b[0;34m)\u001b[0m\u001b[0;34m,\u001b[0m\u001b[0mlist\u001b[0m\u001b[0;34m(\u001b[0m\u001b[0mreversed\u001b[0m\u001b[0;34m(\u001b[0m\u001b[0mnp\u001b[0m\u001b[0;34m.\u001b[0m\u001b[0mbinary_repr\u001b[0m\u001b[0;34m(\u001b[0m\u001b[0mj\u001b[0m\u001b[0;34m)\u001b[0m\u001b[0;34m)\u001b[0m\u001b[0;34m)\u001b[0m\u001b[0;34m)\u001b[0m\u001b[0;34m\u001b[0m\u001b[0;34m\u001b[0m\u001b[0m\n\u001b[0;32m----> 5\u001b[0;31m         \u001b[0;32mif\u001b[0m \u001b[0mc_slow\u001b[0m\u001b[0;34m(\u001b[0m\u001b[0mi\u001b[0m\u001b[0;34m,\u001b[0m\u001b[0mj\u001b[0m\u001b[0;34m)\u001b[0m \u001b[0;34m!=\u001b[0m \u001b[0mC\u001b[0m\u001b[0;34m(\u001b[0m\u001b[0mlist\u001b[0m\u001b[0;34m(\u001b[0m\u001b[0mreversed\u001b[0m\u001b[0;34m(\u001b[0m\u001b[0mnp\u001b[0m\u001b[0;34m.\u001b[0m\u001b[0mbinary_repr\u001b[0m\u001b[0;34m(\u001b[0m\u001b[0mi\u001b[0m\u001b[0;34m)\u001b[0m\u001b[0;34m)\u001b[0m\u001b[0;34m)\u001b[0m\u001b[0;34m,\u001b[0m\u001b[0mlist\u001b[0m\u001b[0;34m(\u001b[0m\u001b[0mreversed\u001b[0m\u001b[0;34m(\u001b[0m\u001b[0mnp\u001b[0m\u001b[0;34m.\u001b[0m\u001b[0mbinary_repr\u001b[0m\u001b[0;34m(\u001b[0m\u001b[0mj\u001b[0m\u001b[0;34m)\u001b[0m\u001b[0;34m)\u001b[0m\u001b[0;34m)\u001b[0m\u001b[0;34m)\u001b[0m\u001b[0;34m:\u001b[0m\u001b[0;34m\u001b[0m\u001b[0;34m\u001b[0m\u001b[0m\n\u001b[0m\u001b[1;32m      6\u001b[0m             \u001b[0mdiffs\u001b[0m\u001b[0;34m.\u001b[0m\u001b[0mappend\u001b[0m\u001b[0;34m(\u001b[0m\u001b[0;34m(\u001b[0m\u001b[0mi\u001b[0m\u001b[0;34m,\u001b[0m\u001b[0mj\u001b[0m\u001b[0;34m)\u001b[0m\u001b[0;34m)\u001b[0m\u001b[0;34m\u001b[0m\u001b[0;34m\u001b[0m\u001b[0m\n",
      "\u001b[0;32m<ipython-input-134-3fc9dfec2f89>\u001b[0m in \u001b[0;36mC\u001b[0;34m(A, B)\u001b[0m\n\u001b[1;32m      2\u001b[0m     \u001b[0mresult\u001b[0m \u001b[0;34m=\u001b[0m \u001b[0;34m[\u001b[0m\u001b[0;36m0\u001b[0m\u001b[0;34m]\u001b[0m\u001b[0;34m*\u001b[0m\u001b[0mlen\u001b[0m\u001b[0;34m(\u001b[0m\u001b[0mB\u001b[0m\u001b[0;34m)\u001b[0m\u001b[0;34m\u001b[0m\u001b[0;34m\u001b[0m\u001b[0m\n\u001b[1;32m      3\u001b[0m     \u001b[0mi\u001b[0m \u001b[0;34m=\u001b[0m \u001b[0mlen\u001b[0m\u001b[0;34m(\u001b[0m\u001b[0mB\u001b[0m\u001b[0;34m)\u001b[0m \u001b[0;34m-\u001b[0m \u001b[0;36m1\u001b[0m\u001b[0;34m\u001b[0m\u001b[0;34m\u001b[0m\u001b[0m\n\u001b[0;32m----> 4\u001b[0;31m     \u001b[0;32mwhile\u001b[0m \u001b[0mA\u001b[0m\u001b[0;34m[\u001b[0m\u001b[0mi\u001b[0m\u001b[0;34m]\u001b[0m \u001b[0;34m==\u001b[0m \u001b[0mB\u001b[0m\u001b[0;34m[\u001b[0m\u001b[0mi\u001b[0m\u001b[0;34m]\u001b[0m\u001b[0;34m:\u001b[0m\u001b[0;34m\u001b[0m\u001b[0;34m\u001b[0m\u001b[0m\n\u001b[0m\u001b[1;32m      5\u001b[0m         \u001b[0mresult\u001b[0m\u001b[0;34m[\u001b[0m\u001b[0mi\u001b[0m\u001b[0;34m]\u001b[0m \u001b[0;34m=\u001b[0m \u001b[0mA\u001b[0m\u001b[0;34m[\u001b[0m\u001b[0mi\u001b[0m\u001b[0;34m]\u001b[0m\u001b[0;34m\u001b[0m\u001b[0;34m\u001b[0m\u001b[0m\n\u001b[1;32m      6\u001b[0m         \u001b[0mi\u001b[0m \u001b[0;34m-=\u001b[0m \u001b[0;36m1\u001b[0m\u001b[0;34m\u001b[0m\u001b[0;34m\u001b[0m\u001b[0m\n",
      "\u001b[0;31mIndexError\u001b[0m: list index out of range"
     ]
    }
   ],
   "source": [
    "diffs = []\n",
    "for i in range(100):\n",
    "    for j in range(i+1, i + 101):\n",
    "        print(list(reversed(np.binary_repr(i))),list(reversed(np.binary_repr(j))))\n",
    "        if c_slow(i,j) != C(list(reversed(np.binary_repr(i))),list(reversed(np.binary_repr(j)))):\n",
    "            diffs.append((i,j))"
   ]
  },
  {
   "cell_type": "code",
   "execution_count": 34,
   "metadata": {
    "ExecuteTime": {
     "end_time": "2021-02-14T14:19:51.234708Z",
     "start_time": "2021-02-14T14:19:51.215720Z"
    }
   },
   "outputs": [
    {
     "data": {
      "text/plain": [
       "[(6, 7),\n",
       " (10, 11),\n",
       " (12, 13),\n",
       " (12, 14),\n",
       " (12, 15),\n",
       " (13, 14),\n",
       " (13, 15),\n",
       " (14, 15),\n",
       " (18, 19),\n",
       " (20, 21),\n",
       " (20, 22),\n",
       " (20, 23),\n",
       " (21, 22),\n",
       " (21, 23),\n",
       " (22, 23),\n",
       " (24, 25),\n",
       " (24, 26),\n",
       " (24, 27),\n",
       " (24, 28),\n",
       " (24, 29),\n",
       " (24, 30),\n",
       " (24, 31),\n",
       " (25, 26),\n",
       " (25, 27),\n",
       " (25, 28),\n",
       " (25, 29),\n",
       " (25, 30),\n",
       " (25, 31),\n",
       " (26, 27),\n",
       " (26, 28),\n",
       " (26, 29),\n",
       " (26, 30),\n",
       " (26, 31),\n",
       " (27, 28),\n",
       " (27, 29),\n",
       " (27, 30),\n",
       " (27, 31),\n",
       " (28, 29),\n",
       " (28, 30),\n",
       " (28, 31),\n",
       " (29, 30),\n",
       " (29, 31),\n",
       " (30, 31),\n",
       " (34, 35),\n",
       " (36, 37),\n",
       " (36, 38),\n",
       " (36, 39),\n",
       " (37, 38),\n",
       " (37, 39),\n",
       " (38, 39),\n",
       " (40, 41),\n",
       " (40, 42),\n",
       " (40, 43),\n",
       " (40, 44),\n",
       " (40, 45),\n",
       " (40, 46),\n",
       " (40, 47),\n",
       " (41, 42),\n",
       " (41, 43),\n",
       " (41, 44),\n",
       " (41, 45),\n",
       " (41, 46),\n",
       " (41, 47),\n",
       " (42, 43),\n",
       " (42, 44),\n",
       " (42, 45),\n",
       " (42, 46),\n",
       " (42, 47),\n",
       " (43, 44),\n",
       " (43, 45),\n",
       " (43, 46),\n",
       " (43, 47),\n",
       " (44, 45),\n",
       " (44, 46),\n",
       " (44, 47),\n",
       " (45, 46),\n",
       " (45, 47),\n",
       " (46, 47),\n",
       " (48, 49),\n",
       " (48, 50),\n",
       " (48, 51),\n",
       " (48, 52),\n",
       " (48, 53),\n",
       " (48, 54),\n",
       " (48, 55),\n",
       " (48, 56),\n",
       " (48, 57),\n",
       " (48, 58),\n",
       " (48, 59),\n",
       " (48, 60),\n",
       " (48, 61),\n",
       " (48, 62),\n",
       " (48, 63),\n",
       " (49, 50),\n",
       " (49, 51),\n",
       " (49, 52),\n",
       " (49, 53),\n",
       " (49, 54),\n",
       " (49, 55),\n",
       " (49, 56),\n",
       " (49, 57),\n",
       " (49, 58),\n",
       " (49, 59),\n",
       " (49, 60),\n",
       " (49, 61),\n",
       " (49, 62),\n",
       " (49, 63),\n",
       " (50, 51),\n",
       " (50, 52),\n",
       " (50, 53),\n",
       " (50, 54),\n",
       " (50, 55),\n",
       " (50, 56),\n",
       " (50, 57),\n",
       " (50, 58),\n",
       " (50, 59),\n",
       " (50, 60),\n",
       " (50, 61),\n",
       " (50, 62),\n",
       " (50, 63),\n",
       " (51, 52),\n",
       " (51, 53),\n",
       " (51, 54),\n",
       " (51, 55),\n",
       " (51, 56),\n",
       " (51, 57),\n",
       " (51, 58),\n",
       " (51, 59),\n",
       " (51, 60),\n",
       " (51, 61),\n",
       " (51, 62),\n",
       " (51, 63),\n",
       " (52, 53),\n",
       " (52, 54),\n",
       " (52, 55),\n",
       " (52, 56),\n",
       " (52, 57),\n",
       " (52, 58),\n",
       " (52, 59),\n",
       " (52, 60),\n",
       " (52, 61),\n",
       " (52, 62),\n",
       " (52, 63),\n",
       " (53, 54),\n",
       " (53, 55),\n",
       " (53, 56),\n",
       " (53, 57),\n",
       " (53, 58),\n",
       " (53, 59),\n",
       " (53, 60),\n",
       " (53, 61),\n",
       " (53, 62),\n",
       " (53, 63),\n",
       " (54, 55),\n",
       " (54, 56),\n",
       " (54, 57),\n",
       " (54, 58),\n",
       " (54, 59),\n",
       " (54, 60),\n",
       " (54, 61),\n",
       " (54, 62),\n",
       " (54, 63),\n",
       " (55, 56),\n",
       " (55, 57),\n",
       " (55, 58),\n",
       " (55, 59),\n",
       " (55, 60),\n",
       " (55, 61),\n",
       " (55, 62),\n",
       " (55, 63),\n",
       " (56, 57),\n",
       " (56, 58),\n",
       " (56, 59),\n",
       " (56, 60),\n",
       " (56, 61),\n",
       " (56, 62),\n",
       " (56, 63),\n",
       " (57, 58),\n",
       " (57, 59),\n",
       " (57, 60),\n",
       " (57, 61),\n",
       " (57, 62),\n",
       " (57, 63),\n",
       " (58, 59),\n",
       " (58, 60),\n",
       " (58, 61),\n",
       " (58, 62),\n",
       " (58, 63),\n",
       " (59, 60),\n",
       " (59, 61),\n",
       " (59, 62),\n",
       " (59, 63),\n",
       " (60, 61),\n",
       " (60, 62),\n",
       " (60, 63),\n",
       " (61, 62),\n",
       " (61, 63),\n",
       " (62, 63),\n",
       " (66, 67),\n",
       " (68, 69),\n",
       " (68, 70),\n",
       " (68, 71),\n",
       " (69, 70),\n",
       " (69, 71),\n",
       " (70, 71),\n",
       " (72, 73),\n",
       " (72, 74),\n",
       " (72, 75),\n",
       " (72, 76),\n",
       " (72, 77),\n",
       " (72, 78),\n",
       " (72, 79),\n",
       " (73, 74),\n",
       " (73, 75),\n",
       " (73, 76),\n",
       " (73, 77),\n",
       " (73, 78),\n",
       " (73, 79),\n",
       " (74, 75),\n",
       " (74, 76),\n",
       " (74, 77),\n",
       " (74, 78),\n",
       " (74, 79),\n",
       " (75, 76),\n",
       " (75, 77),\n",
       " (75, 78),\n",
       " (75, 79),\n",
       " (76, 77),\n",
       " (76, 78),\n",
       " (76, 79),\n",
       " (77, 78),\n",
       " (77, 79),\n",
       " (78, 79),\n",
       " (80, 81),\n",
       " (80, 82),\n",
       " (80, 83),\n",
       " (80, 84),\n",
       " (80, 85),\n",
       " (80, 86),\n",
       " (80, 87),\n",
       " (80, 88),\n",
       " (80, 89),\n",
       " (80, 90),\n",
       " (80, 91),\n",
       " (80, 92),\n",
       " (80, 93),\n",
       " (80, 94),\n",
       " (80, 95),\n",
       " (81, 82),\n",
       " (81, 83),\n",
       " (81, 84),\n",
       " (81, 85),\n",
       " (81, 86),\n",
       " (81, 87),\n",
       " (81, 88),\n",
       " (81, 89),\n",
       " (81, 90),\n",
       " (81, 91),\n",
       " (81, 92),\n",
       " (81, 93),\n",
       " (81, 94),\n",
       " (81, 95),\n",
       " (82, 83),\n",
       " (82, 84),\n",
       " (82, 85),\n",
       " (82, 86),\n",
       " (82, 87),\n",
       " (82, 88),\n",
       " (82, 89),\n",
       " (82, 90),\n",
       " (82, 91),\n",
       " (82, 92),\n",
       " (82, 93),\n",
       " (82, 94),\n",
       " (82, 95),\n",
       " (83, 84),\n",
       " (83, 85),\n",
       " (83, 86),\n",
       " (83, 87),\n",
       " (83, 88),\n",
       " (83, 89),\n",
       " (83, 90),\n",
       " (83, 91),\n",
       " (83, 92),\n",
       " (83, 93),\n",
       " (83, 94),\n",
       " (83, 95),\n",
       " (84, 85),\n",
       " (84, 86),\n",
       " (84, 87),\n",
       " (84, 88),\n",
       " (84, 89),\n",
       " (84, 90),\n",
       " (84, 91),\n",
       " (84, 92),\n",
       " (84, 93),\n",
       " (84, 94),\n",
       " (84, 95),\n",
       " (85, 86),\n",
       " (85, 87),\n",
       " (85, 88),\n",
       " (85, 89),\n",
       " (85, 90),\n",
       " (85, 91),\n",
       " (85, 92),\n",
       " (85, 93),\n",
       " (85, 94),\n",
       " (85, 95),\n",
       " (86, 87),\n",
       " (86, 88),\n",
       " (86, 89),\n",
       " (86, 90),\n",
       " (86, 91),\n",
       " (86, 92),\n",
       " (86, 93),\n",
       " (86, 94),\n",
       " (86, 95),\n",
       " (87, 88),\n",
       " (87, 89),\n",
       " (87, 90),\n",
       " (87, 91),\n",
       " (87, 92),\n",
       " (87, 93),\n",
       " (87, 94),\n",
       " (87, 95),\n",
       " (88, 89),\n",
       " (88, 90),\n",
       " (88, 91),\n",
       " (88, 92),\n",
       " (88, 93),\n",
       " (88, 94),\n",
       " (88, 95),\n",
       " (89, 90),\n",
       " (89, 91),\n",
       " (89, 92),\n",
       " (89, 93),\n",
       " (89, 94),\n",
       " (89, 95),\n",
       " (90, 91),\n",
       " (90, 92),\n",
       " (90, 93),\n",
       " (90, 94),\n",
       " (90, 95),\n",
       " (91, 92),\n",
       " (91, 93),\n",
       " (91, 94),\n",
       " (91, 95),\n",
       " (92, 93),\n",
       " (92, 94),\n",
       " (92, 95),\n",
       " (93, 94),\n",
       " (93, 95),\n",
       " (94, 95),\n",
       " (96, 97),\n",
       " (96, 98),\n",
       " (96, 99),\n",
       " (96, 100),\n",
       " (96, 101),\n",
       " (96, 102),\n",
       " (96, 103),\n",
       " (96, 104),\n",
       " (96, 105),\n",
       " (96, 106),\n",
       " (96, 107),\n",
       " (96, 108),\n",
       " (96, 109),\n",
       " (96, 110),\n",
       " (96, 111),\n",
       " (96, 112),\n",
       " (96, 113),\n",
       " (96, 114),\n",
       " (96, 115),\n",
       " (96, 116),\n",
       " (96, 117),\n",
       " (96, 118),\n",
       " (96, 119),\n",
       " (96, 120),\n",
       " (96, 121),\n",
       " (96, 122),\n",
       " (96, 123),\n",
       " (96, 124),\n",
       " (96, 125),\n",
       " (96, 126),\n",
       " (96, 127),\n",
       " (97, 98),\n",
       " (97, 99),\n",
       " (97, 100),\n",
       " (97, 101),\n",
       " (97, 102),\n",
       " (97, 103),\n",
       " (97, 104),\n",
       " (97, 105),\n",
       " (97, 106),\n",
       " (97, 107),\n",
       " (97, 108),\n",
       " (97, 109),\n",
       " (97, 110),\n",
       " (97, 111),\n",
       " (97, 112),\n",
       " (97, 113),\n",
       " (97, 114),\n",
       " (97, 115),\n",
       " (97, 116),\n",
       " (97, 117),\n",
       " (97, 118),\n",
       " (97, 119),\n",
       " (97, 120),\n",
       " (97, 121),\n",
       " (97, 122),\n",
       " (97, 123),\n",
       " (97, 124),\n",
       " (97, 125),\n",
       " (97, 126),\n",
       " (97, 127),\n",
       " (98, 99),\n",
       " (98, 100),\n",
       " (98, 101),\n",
       " (98, 102),\n",
       " (98, 103),\n",
       " (98, 104),\n",
       " (98, 105),\n",
       " (98, 106),\n",
       " (98, 107),\n",
       " (98, 108),\n",
       " (98, 109),\n",
       " (98, 110),\n",
       " (98, 111),\n",
       " (98, 112),\n",
       " (98, 113),\n",
       " (98, 114),\n",
       " (98, 115),\n",
       " (98, 116),\n",
       " (98, 117),\n",
       " (98, 118),\n",
       " (98, 119),\n",
       " (98, 120),\n",
       " (98, 121),\n",
       " (98, 122),\n",
       " (98, 123),\n",
       " (98, 124),\n",
       " (98, 125),\n",
       " (98, 126),\n",
       " (98, 127),\n",
       " (99, 100),\n",
       " (99, 101),\n",
       " (99, 102),\n",
       " (99, 103),\n",
       " (99, 104),\n",
       " (99, 105),\n",
       " (99, 106),\n",
       " (99, 107),\n",
       " (99, 108),\n",
       " (99, 109),\n",
       " (99, 110),\n",
       " (99, 111),\n",
       " (99, 112),\n",
       " (99, 113),\n",
       " (99, 114),\n",
       " (99, 115),\n",
       " (99, 116),\n",
       " (99, 117),\n",
       " (99, 118),\n",
       " (99, 119),\n",
       " (99, 120),\n",
       " (99, 121),\n",
       " (99, 122),\n",
       " (99, 123),\n",
       " (99, 124),\n",
       " (99, 125),\n",
       " (99, 126),\n",
       " (99, 127)]"
      ]
     },
     "execution_count": 34,
     "metadata": {},
     "output_type": "execute_result"
    }
   ],
   "source": [
    "diffs"
   ]
  },
  {
   "cell_type": "code",
   "execution_count": 29,
   "metadata": {
    "ExecuteTime": {
     "end_time": "2021-02-14T14:18:57.568191Z",
     "start_time": "2021-02-14T14:18:57.561593Z"
    }
   },
   "outputs": [
    {
     "data": {
      "text/plain": [
       "(6, 4)"
      ]
     },
     "execution_count": 29,
     "metadata": {},
     "output_type": "execute_result"
    }
   ],
   "source": [
    "c_slow(6,7), c(6,7)"
   ]
  },
  {
   "cell_type": "code",
   "execution_count": null,
   "metadata": {},
   "outputs": [],
   "source": [
    "Let’s start by defining a function c(a, b) that takes integers a and b (with b > a) and returns an integer:\n",
    "\n",
    "c(a, b) = a & (a+1) & (a+2) & … & (b-1) & b\n",
    "Note that “&” stands for the bitwise AND operator. If you don’t know how the bitwise AND works, a quick internet search will help. To spare you the trouble, here goes what Google says: “The bitwise AND operator (&) compares each bit of the first operand to the corresponding bit of the second operand. If both bits are 1, the corresponding result bit is set to 1. Otherwise, the corresponding result bit is set to 0.”\n",
    "\n",
    "For example, for two numbers a = 5 (101 in binary) and b = 7 (111 in binary), the calculation of c(a, b) would proceed as follows:\n",
    "\n",
    "c(a, b) = 101 & 110 & 111 = 100\n",
    "You’re given two arrays A and B representing a and b in binary (every element of the array can be either 0 or 1… who would have guessed!? 😒). The two arrays are of length N and M respectively, with M ≥ N > 0. A and B are indexed consistently with each other, so that A[0] and B[0] represent the least significant digits of a and b.\n",
    "\n",
    "Your goal is to write an efficient algorithm that computes either c(a, b) or C(A, B) (we don’t care whether you work with integer or binary inputs/outputs). The more efficient your algorithm, the better. The best solution has time complexity O(M) and space complexity O(M). In case you struggle to reach the optimum complexity, remember that a working solution is better than no solution.\n",
    "\n",
    "To make your life easier:\n",
    "\n",
    "The bitwise AND operator (&) is already implemented. z = x & y simply works. Assume this will be O(M) in both time and space complexity, if the binary representation of z requires M bits.\n",
    "You shouldn’t need to jump from and to integer and binary representations of numbers. So, if you’re implementing an algorithm to do that, you’re probably on the wrong path.\n",
    "Focus on the core logic needed to solve the problem. If your algorithm is longer than 20 lines you’re almost certainly not following the instructions.\n",
    "\n",
    "Use the space available below to describe your solution in pseudocode, or any language of your choice. Please, make sure to provide a description of your reasoning and complement your code with very clear explanations of what each part does and why: if the reviewers can’t understand your algorithm despite a reasonable effort, they’ll have to consider your solution as wrong.\n",
    "\n"
   ]
  },
  {
   "cell_type": "code",
   "execution_count": null,
   "metadata": {},
   "outputs": [],
   "source": [
    "# Python\n",
    "\n",
    "\"\"\"\n",
    "Here I'm using the array notation.\n",
    "We start by setting the result to 0 (since b > a the result array is long as the length of B).\n",
    "First consider that 0 is the null element for AND operation (given a digit d, d and 0 = 0) and also that AND is idempotent (meaning d AND d = d).\n",
    "The idea is to find the most significant digits shared between A and B. Starting from the most significant digits where A and B differs then all the next digits (up to the least one) are going to be canceled by the AND operator (since we are computing the AND between all combination of 0 and 1s and therefore there will be a canceling 0 somewhere).\n",
    "We iterate over A and B from the most significant digit to the least one until we find a digit d where A[d] != B[d]. Since b > a we know also that A[d] = 0 and B[d] = 1, therefore result[d] = 0 and all the next digits also are 0. The result will have the same digits where A and B are the same up to that point, all the other least significant digits 0.\n",
    "\"\"\"\n",
    "\n",
    "def C(A,B):\n",
    "    result = [0]*len(B)  # initialize result to 0\n",
    "    i = len(B) - 1  # Iterate from the most significant digit\n",
    "    while A[i] == B[i]:  # while the representation are the same...\n",
    "        result[i] = A[i]. # ...the result will be the same of A and B\n",
    "        i -= 1  # iterate downward to the least significant digit. Since b > a we know that the loop will end sometime\n",
    "    return result"
   ]
  }
 ],
 "metadata": {
  "kernelspec": {
   "display_name": "Python 3",
   "language": "python",
   "name": "python3"
  },
  "language_info": {
   "codemirror_mode": {
    "name": "ipython",
    "version": 3
   },
   "file_extension": ".py",
   "mimetype": "text/x-python",
   "name": "python",
   "nbconvert_exporter": "python",
   "pygments_lexer": "ipython3",
   "version": "3.7.4"
  },
  "toc": {
   "base_numbering": 1,
   "nav_menu": {},
   "number_sections": true,
   "sideBar": true,
   "skip_h1_title": true,
   "title_cell": "Table of Contents",
   "title_sidebar": "Contents",
   "toc_cell": true,
   "toc_position": {},
   "toc_section_display": true,
   "toc_window_display": false
  },
  "varInspector": {
   "cols": {
    "lenName": 16,
    "lenType": 16,
    "lenVar": 40
   },
   "kernels_config": {
    "python": {
     "delete_cmd_postfix": "",
     "delete_cmd_prefix": "del ",
     "library": "var_list.py",
     "varRefreshCmd": "print(var_dic_list())"
    },
    "r": {
     "delete_cmd_postfix": ") ",
     "delete_cmd_prefix": "rm(",
     "library": "var_list.r",
     "varRefreshCmd": "cat(var_dic_list()) "
    }
   },
   "types_to_exclude": [
    "module",
    "function",
    "builtin_function_or_method",
    "instance",
    "_Feature"
   ],
   "window_display": false
  }
 },
 "nbformat": 4,
 "nbformat_minor": 2
}
